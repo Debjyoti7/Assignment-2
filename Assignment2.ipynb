{
 "cells": [
  {
   "cell_type": "code",
   "execution_count": 8,
   "id": "bef0700c-452a-4d46-b5a3-51b88b394125",
   "metadata": {},
   "outputs": [
    {
     "name": "stdin",
     "output_type": "stream",
     "text": [
      "Enter the number 70\n"
     ]
    },
    {
     "name": "stdout",
     "output_type": "stream",
     "text": [
      "you got C grade\n"
     ]
    }
   ],
   "source": [
    "marks_obtained= int ( input('Enter the number'))\n",
    "if marks_obtained >90:\n",
    "    print(f'you got A grade')\n",
    "elif marks_obtained >80 and marks_obtained <=90:\n",
    "    print(f'you got B grade')\n",
    "elif marks_obtained >=60 and marks_obtained <=80:\n",
    "    print(f'you got C grade')\n",
    "else:\n",
    "    print(f'you got D grade')\n"
   ]
  }
 ],
 "metadata": {
  "kernelspec": {
   "display_name": "Python 3 (ipykernel)",
   "language": "python",
   "name": "python3"
  },
  "language_info": {
   "codemirror_mode": {
    "name": "ipython",
    "version": 3
   },
   "file_extension": ".py",
   "mimetype": "text/x-python",
   "name": "python",
   "nbconvert_exporter": "python",
   "pygments_lexer": "ipython3",
   "version": "3.10.8"
  }
 },
 "nbformat": 4,
 "nbformat_minor": 5
}
